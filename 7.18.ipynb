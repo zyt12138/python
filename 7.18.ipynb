{
 "cells": [
  {
   "cell_type": "markdown",
   "metadata": {},
   "source": [
    "# 选择\n",
    "## 布尔类型、数值和表达式\n",
    "![](../Photo/33.png)\n",
    "- 注意：比较运算符的相等是两个等到，一个等到代表赋值\n",
    "- 在Python中可以用整型0来代表False，其他数字来代表True\n",
    "- 后面还会讲到 is 在判断语句中的用发"
   ]
  },
  {
   "cell_type": "code",
   "execution_count": null,
   "metadata": {},
   "outputs": [],
   "source": [
    "import random\n",
    "import matha\n",
    "a, b = 3, 4\n",
    "list = ['+', '-', '*', '/']\n",
    "randl = random.randint(0, 3)\n",
    "if list[randl]=='+':\n",
    "    print('验证码', first_num ,'+', second_num, '= ?')\n",
    "    right_answer = first_num + second_num\n",
    "elif list[randl]=='-':\n",
    "    print('验证码', first_num ,'-', second_num, '= ?')\n",
    "    right_answer = first_num - second_num\n",
    "elif list[randl]=='-':\n",
    "    print('验证码', first_num ,'*', second_num, '= ?')\n",
    "    right_answer = first_num * second_num\n",
    "else:\n",
    "    print('验证码', first_num ,'/', second_num, '= ?')\n",
    "    right_answer = first_num / second_num\n",
    "    \n",
    "answer = eval(input('写出结果： '))\n",
    "\n",
    "if answer == right_answer:\n",
    "    print('验证码正确')\n",
    "else:\n",
    "    print('验证码错误')"
   ]
  },
  {
   "cell_type": "markdown",
   "metadata": {},
   "source": [
    "## 字符串的比较使用ASCII值"
   ]
  },
  {
   "cell_type": "markdown",
   "metadata": {},
   "source": [
    "## Markdown \n",
    "- https://github.com/younghz/Markdown"
   ]
  },
  {
   "cell_type": "markdown",
   "metadata": {},
   "source": [
    "## EP:\n",
    "- <img src=\"../Photo/34.png\"></img>\n",
    "- 输入一个数字，判断其实奇数还是偶数"
   ]
  },
  {
   "cell_type": "markdown",
   "metadata": {},
   "source": [
    "## 产生随机数字\n",
    "- 函数random.randint(a,b) 可以用来产生一个a和b之间且包括a和b的随机整数"
   ]
  },
  {
   "cell_type": "markdown",
   "metadata": {},
   "source": [
    "##  其他random方法\n",
    "- random.random 返回0.0到1.0之间前闭后开区间的随机浮点\n",
    "- random.randrange(a,b) 前闭后开"
   ]
  },
  {
   "cell_type": "markdown",
   "metadata": {},
   "source": [
    "## EP：\n",
    "- 产生两个随机整数number1和number2，然后显示给用户，使用户输入数字的和，并判定其是否正确\n",
    "- 进阶:写一个随机序号点名程序"
   ]
  },
  {
   "cell_type": "code",
   "execution_count": 4,
   "metadata": {},
   "outputs": [
    {
     "name": "stdout",
     "output_type": "stream",
     "text": [
      "验证码 4 + 5 = ?\n",
      "写出结果： 9\n",
      "验证码正确\n"
     ]
    }
   ],
   "source": [
    "import random\n",
    "first_num = random.randint(0, 9)\n",
    "second_num = random.randint(0, 9)\n",
    "print('验证码', first_num ,'+', second_num, '= ?')\n",
    "right_answer = first_num + second_num\n",
    "answer = eval(input('写出结果： '))\n",
    "\n",
    "if answer == right_answer:\n",
    "    print('验证码正确')\n",
    "else:\n",
    "    print('验证码错误')"
   ]
  },
  {
   "cell_type": "markdown",
   "metadata": {},
   "source": [
    "## if语句\n",
    "- 如果条件正确就执行一个单向if语句，亦即当条件为真的时候才执行if内部的语句\n",
    "- Python有很多选择语句:\n",
    "> - 单向if \n",
    "  - 双向if-else\n",
    "  - 嵌套if\n",
    "  - 多向if-elif-else\n",
    "  \n",
    "- 注意：当语句含有子语句的时候，那么一定至少要有一个缩进，也就是说如果有儿子存在，那么一定要缩进\n",
    "- 切记不可tab键和space混用，单用tab 或者 space\n",
    "- 当你输出的结果是无论if是否为真时都需要显示时，语句应该与if对齐"
   ]
  },
  {
   "cell_type": "markdown",
   "metadata": {},
   "source": [
    "## EP：\n",
    "- 用户输入一个数字，判断其实奇数还是偶数\n",
    "- 进阶：可以查看下4.5实例研究猜生日"
   ]
  },
  {
   "cell_type": "markdown",
   "metadata": {},
   "source": [
    "## 双向if-else 语句\n",
    "- 如果条件为真，那么走if内部语句，否则走else内部语句"
   ]
  },
  {
   "cell_type": "markdown",
   "metadata": {},
   "source": [
    "## EP：\n",
    "- 产生两个随机整数number1和number2，然后显示给用户，使用户输入数字，并判定其是否正确,如果正确打印“you‘re correct”，否则打印正确错误"
   ]
  },
  {
   "cell_type": "markdown",
   "metadata": {},
   "source": [
    "## 嵌套if 和多向if-elif-else\n",
    "![](../Photo/35.png)"
   ]
  },
  {
   "cell_type": "markdown",
   "metadata": {},
   "source": [
    "## EP：\n",
    "- 提示用户输入一个年份，然后显示表示这一年的动物\n",
    "![](../Photo/36.png)\n",
    "- 计算身体质量指数的程序\n",
    "- BMI = 以千克为单位的体重除以以米为单位的身高\n",
    "![](../Photo/37.png)"
   ]
  },
  {
   "cell_type": "markdown",
   "metadata": {},
   "source": [
    "## 逻辑运算符\n",
    "![](../Photo/38.png)"
   ]
  },
  {
   "cell_type": "markdown",
   "metadata": {},
   "source": [
    "![](../Photo/39.png)\n",
    "![](../Photo/40.png)"
   ]
  },
  {
   "cell_type": "markdown",
   "metadata": {},
   "source": [
    "## EP：\n",
    "- 判定闰年：一个年份如果能被4整除但不能被100整除，或者能被400整除，那么这个年份就是闰年\n",
    "- 提示用户输入一个年份，并返回是否是闰年\n",
    "- 提示用户输入一个数字，判断其是否为水仙花数"
   ]
  },
  {
   "cell_type": "code",
   "execution_count": null,
   "metadata": {},
   "outputs": [],
   "source": [
    "import random\n",
    "n = random.randint\n",
    "#second_num = random.randint(0, 99)\n",
    "print('输入年份')\n",
    "r = n//4 and r=//400\n",
    "a = eval(input('写出结果： '))\n",
    "\n",
    "if a == r:\n",
    "    print('验证码正确')\n",
    "else:\n",
    "    print('验证码错误')"
   ]
  },
  {
   "cell_type": "code",
   "execution_count": null,
   "metadata": {},
   "outputs": [],
   "source": [
    "num=int(input(\"请输入你要判断的正整数：\"))\n",
    "n=num\n",
    "sum=0\n",
    "length=len(str(num))\n",
    "#str是将参数转换成字符串的形式\n",
    "#len是返回对象长度或者项目个数\n",
    "#例如len('hello')=5,len([1,2,3,4,5])=5\n",
    "while n!=0:\n",
    "    a=n%10\n",
    "    sum=sum+a**length\n",
    "    n=n//10#//取整除，返回商的整数部分\n",
    "if sum==num:\n",
    "    print(num,\"是水仙花数\")\n",
    "else:\n",
    "    print(num,\"不是水仙花数\")"
   ]
  },
  {
   "cell_type": "code",
   "execution_count": 2,
   "metadata": {},
   "outputs": [
    {
     "ename": "SyntaxError",
     "evalue": "Missing parentheses in call to 'print'. Did you mean print(print n)? (<ipython-input-2-86536a6dc93b>, line 7)",
     "output_type": "error",
     "traceback": [
      "\u001b[1;36m  File \u001b[1;32m\"<ipython-input-2-86536a6dc93b>\"\u001b[1;36m, line \u001b[1;32m7\u001b[0m\n\u001b[1;33m    print n\u001b[0m\n\u001b[1;37m          ^\u001b[0m\n\u001b[1;31mSyntaxError\u001b[0m\u001b[1;31m:\u001b[0m Missing parentheses in call to 'print'. Did you mean print(print n)?\n"
     ]
    }
   ],
   "source": [
    "\n",
    "for n in range(100,1000):\n",
    "    i = n / 100\n",
    "    j = n / 10 % 10\n",
    "    k = n % 10\n",
    "    if n == i ** 3 + j ** 3 + k ** 3:\n",
    "        print n\n",
    "        \n"
   ]
  },
  {
   "cell_type": "markdown",
   "metadata": {},
   "source": [
    "## 实例研究：彩票\n",
    "![](../Photo/41.png)"
   ]
  },
  {
   "cell_type": "markdown",
   "metadata": {},
   "source": [
    "# Homework\n",
    "- 1\n",
    "![](../Photo/42.png)"
   ]
  },
  {
   "cell_type": "code",
   "execution_count": null,
   "metadata": {},
   "outputs": [],
   "source": [
    "import numpy as np\n",
    " \n",
    "def solve_quad(a,b,c):\n",
    "    if a == 0:\n",
    "        print('您输入的不是二次方程!')\n",
    "    else:\n",
    "        delta = b*b-4*a*c\n",
    "        x = -b/(2*a)\n",
    "        if delta == 0:\n",
    "            print('方程有惟一解，X=%f'%(x))\n",
    "            return x\n",
    "        elif delta > 0:\n",
    "            x1 = x-np.sqrt(delta)/(2*a)\n",
    "            x2 = x+np.sqrt(delta)/(2*a)\n",
    "            print('方程有两个实根:X1=%f,X2=%f'%(x1,x2))\n",
    "            return x1,x2\n",
    "        else:\n",
    "            x1 = (-b+complex(0,1)*np.sqrt((-1)*delta))/(2*a)\n",
    "            x2 = (-b-complex(0,1)*np.sqrt((-1)*delta))/(2*a)\n",
    "            print('方程有两个虚根，如下所示：')\n",
    "            print(x1,x2)\n",
    "            return x1,x2"
   ]
  },
  {
   "cell_type": "markdown",
   "metadata": {},
   "source": [
    "- 2\n",
    "![](../Photo/43.png)"
   ]
  },
  {
   "cell_type": "code",
   "execution_count": 1,
   "metadata": {},
   "outputs": [
    {
     "name": "stdout",
     "output_type": "stream",
     "text": [
      "验证码 33 + 83 = ?\n",
      "写出结果： 411\n",
      "验证码错误\n"
     ]
    }
   ],
   "source": [
    "import random\n",
    "first_num = random.randint(0, 99)\n",
    "second_num = random.randint(0, 99)\n",
    "print('验证码', first_num ,'+', second_num, '= ?')\n",
    "right_answer = first_num + second_num\n",
    "answer = eval(input('写出结果： '))\n",
    "\n",
    "if answer == right_answer:\n",
    "    print('验证码正确')\n",
    "else:\n",
    "    print('验证码错误')"
   ]
  },
  {
   "cell_type": "markdown",
   "metadata": {},
   "source": [
    "- 3\n",
    "![](../Photo/44.png)"
   ]
  },
  {
   "cell_type": "code",
   "execution_count": 11,
   "metadata": {},
   "outputs": [
    {
     "ename": "SyntaxError",
     "evalue": "Missing parentheses in call to 'print'. Did you mean print(t anyday)? (<ipython-input-11-fda0cbc086c5>, line 7)",
     "output_type": "error",
     "traceback": [
      "\u001b[1;36m  File \u001b[1;32m\"<ipython-input-11-fda0cbc086c5>\"\u001b[1;36m, line \u001b[1;32m7\u001b[0m\n\u001b[1;33m    print anyday\u001b[0m\n\u001b[1;37m               ^\u001b[0m\n\u001b[1;31mSyntaxError\u001b[0m\u001b[1;31m:\u001b[0m Missing parentheses in call to 'print'. Did you mean print(t anyday)?\n"
     ]
    }
   ],
   "source": [
    "import re;\n",
    "import time;\n",
    "import datetime;\n",
    "if(__name__==\"__main__\"):\n",
    "  #today=int(time.strftime(\"%w\"));\n",
    "  anyday=datetime.datetime(2018,8,28).strftime(\"%w\");\n",
    "  print anyday"
   ]
  },
  {
   "cell_type": "markdown",
   "metadata": {},
   "source": [
    "- 4\n",
    "![](../Photo/45.png)"
   ]
  },
  {
   "cell_type": "code",
   "execution_count": null,
   "metadata": {},
   "outputs": [],
   "source": [
    "import re\n",
    "\n",
    "x, y, z = re.split(',| |，|  ', input('请输入3个数字，用逗号或空格隔开：'))\n",
    "x, y, z = int(x), int(y), int(z)\n",
    "\n",
    "maxNo = max(x, y, z)\n",
    "minNo = min(x, y, z)\n",
    "print(maxNo, x+y+z-maxNo-minNo, minNo)"
   ]
  },
  {
   "cell_type": "markdown",
   "metadata": {},
   "source": [
    "- 5\n",
    "![](../Photo/46.png)"
   ]
  },
  {
   "cell_type": "markdown",
   "metadata": {},
   "source": [
    "- 6\n",
    "![](../Photo/47.png)"
   ]
  },
  {
   "cell_type": "code",
   "execution_count": 8,
   "metadata": {},
   "outputs": [
    {
     "name": "stdout",
     "output_type": "stream",
     "text": [
      " 请输入一个月份：7\n",
      "31天\n"
     ]
    }
   ],
   "source": [
    "num=int(input(' 请输入一个月份：'))\n",
    "if num in (1,3,5,7,8,10,12):\n",
    "    print('31天')                \n",
    "elif num ==2:\n",
    " year = int(input(' 年份：'))\n",
    " if (year%100!=0 and year%4==0 or num%400==0):  #能被4整除但不能被100整除，或者能被400整除即为闰年\n",
    "        print('29天')\n",
    " else:\n",
    "     print('28天')\n",
    "else:\n",
    "    print(\"30天\")"
   ]
  },
  {
   "cell_type": "markdown",
   "metadata": {},
   "source": [
    "- 7\n",
    "![](../Photo/48.png)"
   ]
  },
  {
   "cell_type": "markdown",
   "metadata": {},
   "source": [
    "- 8\n",
    "![](../Photo/49.png)"
   ]
  },
  {
   "cell_type": "markdown",
   "metadata": {},
   "source": [
    "- 9\n",
    "![](../Photo/50.png)"
   ]
  },
  {
   "cell_type": "code",
   "execution_count": 10,
   "metadata": {},
   "outputs": [
    {
     "name": "stdout",
     "output_type": "stream",
     "text": [
      "输入年份：2014\n",
      "输入月份：8\n",
      "输入当前月份的某天：21\n",
      "Day of the week is 星期四\n"
     ]
    }
   ],
   "source": [
    "year = eval(input('输入年份：'))\n",
    "months = eval(input('输入月份：'))\n",
    "days = eval(input('输入当前月份的某天：'))\n",
    "hdayDict = {0:'星期六',1:'星期日', 2: '星期一', 3: '星期二', 4: '星期三', 5: '星期四', 6: '星期五'}\n",
    "monDict = {1: '13', 2: '14', 3: '3', 4: '4', 5: '5', 6: '6', 7: '7', 8: '8', 9: '9', 10: '10', \\\n",
    "             11: '11', 12: '12'}\n",
    "if months == 1 or months == 2:\n",
    "    year = year - 1 \n",
    "shijishu = year // 100\n",
    "shijiyear = year % 100\n",
    "h = (days + (26 * (eval(monDict[months]) + 1)) // 10 + shijiyear + shijiyear // 4 + shijishu // 4 + 5 * shijishu) % 7\n",
    "print('Day of the week is ' + hdayDict[h])"
   ]
  },
  {
   "cell_type": "markdown",
   "metadata": {},
   "source": [
    "- 10\n",
    "![](../Photo/51.png)"
   ]
  },
  {
   "cell_type": "code",
   "execution_count": 1,
   "metadata": {},
   "outputs": [
    {
     "name": "stdout",
     "output_type": "stream",
     "text": [
      "大小是 2 花色是 红桃\n"
     ]
    }
   ],
   "source": [
    "import random\n",
    "s =random.choice(('a',2,3,4,5,6,7,8,9,10,'j','q','k'))\n",
    "h =random.choice(('梅花','方块','红桃','黑桃'))\n",
    "print ('大小是',s,'花色是',h)\n"
   ]
  },
  {
   "cell_type": "markdown",
   "metadata": {},
   "source": [
    "- 11\n",
    "![](../Photo/52.png)"
   ]
  },
  {
   "cell_type": "code",
   "execution_count": 3,
   "metadata": {},
   "outputs": [
    {
     "name": "stdout",
     "output_type": "stream",
     "text": [
      "121\n",
      "yes\n"
     ]
    }
   ],
   "source": [
    "n=int(input(\"\"))\n",
    "n=str(n)\n",
    "m=n[::-1]\n",
    "if(n==m):\n",
    "    print(\"yes\")\n",
    "else:\n",
    "    print(\"no\")"
   ]
  },
  {
   "cell_type": "markdown",
   "metadata": {},
   "source": [
    "- 12\n",
    "![](../Photo/53.png)"
   ]
  },
  {
   "cell_type": "code",
   "execution_count": 7,
   "metadata": {},
   "outputs": [
    {
     "ename": "IndentationError",
     "evalue": "expected an indented block (<ipython-input-7-3213509d8c9c>, line 2)",
     "output_type": "error",
     "traceback": [
      "\u001b[1;36m  File \u001b[1;32m\"<ipython-input-7-3213509d8c9c>\"\u001b[1;36m, line \u001b[1;32m2\u001b[0m\n\u001b[1;33m    for line in a, b, c:\u001b[0m\n\u001b[1;37m      ^\u001b[0m\n\u001b[1;31mIndentationError\u001b[0m\u001b[1;31m:\u001b[0m expected an indented block\n"
     ]
    }
   ],
   "source": [
    "def judge(a, b, c):\n",
    "for line in a, b, c:\n",
    "if line <= 0:\n",
    "    print(False)\n",
    "return False\n",
    "if (a + b - c) * (a + c - b) * (b + c - a) > 0:\n",
    "    print(True)\n",
    "return True\n",
    "else:\n",
    "    print(False)\n",
    "return False"
   ]
  },
  {
   "cell_type": "code",
   "execution_count": null,
   "metadata": {},
   "outputs": [],
   "source": []
  }
 ],
 "metadata": {
  "kernelspec": {
   "display_name": "Python 3",
   "language": "python",
   "name": "python3"
  },
  "language_info": {
   "codemirror_mode": {
    "name": "ipython",
    "version": 3
   },
   "file_extension": ".py",
   "mimetype": "text/x-python",
   "name": "python",
   "nbconvert_exporter": "python",
   "pygments_lexer": "ipython3",
   "version": "3.6.4"
  }
 },
 "nbformat": 4,
 "nbformat_minor": 2
}
