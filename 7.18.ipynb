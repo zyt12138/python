{
 "cells": [
  {
   "cell_type": "markdown",
   "metadata": {},
   "source": [
    "# 选择\n",
    "## 布尔类型、数值和表达式\n",
    "![](../Photo/33.png)\n",
    "- 注意：比较运算符的相等是两个等到，一个等到代表赋值\n",
    "- 在Python中可以用整型0来代表False，其他数字来代表True\n",
    "- 后面还会讲到 is 在判断语句中的用发"
   ]
  },
  {
   "cell_type": "markdown",
   "metadata": {},
   "source": [
    "## 字符串的比较使用ASCII值"
   ]
  },
  {
   "cell_type": "markdown",
   "metadata": {},
   "source": [
    "## Markdown \n",
    "- https://github.com/younghz/Markdown"
   ]
  },
  {
   "cell_type": "markdown",
   "metadata": {},
   "source": [
    "## EP:\n",
    "- <img src=\"../Photo/34.png\"></img>\n",
    "- 输入一个数字，判断其实奇数还是偶数"
   ]
  },
  {
   "cell_type": "markdown",
   "metadata": {},
   "source": [
    "## 产生随机数字\n",
    "- 函数random.randint(a,b) 可以用来产生一个a和b之间且包括a和b的随机整数"
   ]
  },
  {
   "cell_type": "markdown",
   "metadata": {},
   "source": [
    "##  其他random方法\n",
    "- random.random 返回0.0到1.0之间前闭后开区间的随机浮点\n",
    "- random.randrange(a,b) 前闭后开"
   ]
  },
  {
   "cell_type": "markdown",
   "metadata": {},
   "source": [
    "## EP：\n",
    "- 产生两个随机整数number1和number2，然后显示给用户，使用户输入数字的和，并判定其是否正确\n",
    "- 进阶:写一个随机序号点名程序"
   ]
  },
  {
   "cell_type": "markdown",
   "metadata": {},
   "source": [
    "## if语句\n",
    "- 如果条件正确就执行一个单向if语句，亦即当条件为真的时候才执行if内部的语句\n",
    "- Python有很多选择语句:\n",
    "> - 单向if \n",
    "  - 双向if-else\n",
    "  - 嵌套if\n",
    "  - 多向if-elif-else\n",
    "  \n",
    "- 注意：当语句含有子语句的时候，那么一定至少要有一个缩进，也就是说如果有儿子存在，那么一定要缩进\n",
    "- 切记不可tab键和space混用，单用tab 或者 space\n",
    "- 当你输出的结果是无论if是否为真时都需要显示时，语句应该与if对齐"
   ]
  },
  {
   "cell_type": "code",
   "execution_count": 5,
   "metadata": {},
   "outputs": [
    {
     "name": "stdout",
     "output_type": "stream",
     "text": [
      "input chengji:101\n",
      "3\n"
     ]
    }
   ],
   "source": [
    "c = int(input('input chengji:'))\n",
    "if c>=80 and c<=100:\n",
    "    print('1')\n",
    "elif c>=60 and c<80:\n",
    "    print('2')\n",
    "else:\n",
    "    print('3')\n"
   ]
  },
  {
   "cell_type": "markdown",
   "metadata": {},
   "source": [
    "## EP：\n",
    "- 用户输入一个数字，判断其实奇数还是偶数\n",
    "- 进阶：可以查看下4.5实例研究猜生日"
   ]
  },
  {
   "cell_type": "markdown",
   "metadata": {},
   "source": [
    "## 双向if-else 语句\n",
    "- 如果条件为真，那么走if内部语句，否则走else内部语句"
   ]
  },
  {
   "cell_type": "markdown",
   "metadata": {},
   "source": [
    "## EP：\n",
    "- 产生两个随机整数number1和number2，然后显示给用户，使用户输入数字，并判定其是否正确,如果正确打印“you‘re correct”，否则打印正确错误"
   ]
  },
  {
   "cell_type": "markdown",
   "metadata": {},
   "source": [
    "## 嵌套if 和多向if-elif-else\n",
    "![](../Photo/35.png)"
   ]
  },
  {
   "cell_type": "markdown",
   "metadata": {},
   "source": [
    "## EP：\n",
    "- 提示用户输入一个年份，然后显示表示这一年的动物\n",
    "![](../Photo/36.png)\n",
    "- 计算身体质量指数的程序\n",
    "- BMI = 以千克为单位的体重除以以米为单位的身高\n",
    "![](../Photo/37.png)"
   ]
  },
  {
   "cell_type": "code",
   "execution_count": 8,
   "metadata": {},
   "outputs": [
    {
     "data": {
      "text/plain": [
       "52.94117647058824"
      ]
     },
     "execution_count": 8,
     "metadata": {},
     "output_type": "execute_result"
    }
   ],
   "source": []
  },
  {
   "cell_type": "markdown",
   "metadata": {},
   "source": [
    "## 逻辑运算符\n",
    "![](../Photo/38.png)"
   ]
  },
  {
   "cell_type": "markdown",
   "metadata": {},
   "source": [
    "![](../Photo/39.png)\n",
    "![](../Photo/40.png)"
   ]
  },
  {
   "cell_type": "markdown",
   "metadata": {},
   "source": [
    "## EP：\n",
    "- 判定闰年：一个年份如果能被4整除但不能被100整除，或者能被400整除，那么这个年份就是闰年\n",
    "- 提示用户输入一个年份，并返回是否是闰年\n",
    "- 提示用户输入一个数字，判断其是否为水仙花数"
   ]
  },
  {
   "cell_type": "code",
   "execution_count": 21,
   "metadata": {},
   "outputs": [
    {
     "name": "stdout",
     "output_type": "stream",
     "text": [
      "153\n",
      "370\n",
      "371\n",
      "407\n"
     ]
    }
   ],
   "source": [
    "for i in range(100,1000):\n",
    "    if i == (i//100)**3 + ((i%100)//10)**3 + ((i%100)%10)**3:\n",
    "        print (i)\n"
   ]
  },
  {
   "cell_type": "code",
   "execution_count": 6,
   "metadata": {},
   "outputs": [
    {
     "name": "stdout",
     "output_type": "stream",
     "text": [
      "input a:3000\n",
      "3000 is not run\n"
     ]
    }
   ],
   "source": [
    "a = int(input('input a:'))\n",
    "if (a%4==0 and a%100!=0) or a%400==0:\n",
    "    print (a,'is run')\n",
    "else:\n",
    "    print(a,'is not run')\n",
    "    "
   ]
  },
  {
   "cell_type": "markdown",
   "metadata": {},
   "source": [
    "## 实例研究：彩票\n",
    "![](../Photo/41.png)"
   ]
  },
  {
   "cell_type": "code",
   "execution_count": 11,
   "metadata": {},
   "outputs": [
    {
     "name": "stdout",
     "output_type": "stream",
     "text": [
      "29\n",
      "input a 10,100:56\n",
      "nothing\n"
     ]
    }
   ],
   "source": [
    "import random \n",
    "b = random.randint(10,100)\n",
    "print (b)\n",
    "a = int(input('input a 10,100:'))\n",
    "if a==b:\n",
    "    print ('10000')\n",
    "elif (a//10)+(a%10)==(b//10)+(b%10)and((a//10)==(b%10)and(a%10)==(b//10)):\n",
    "    print('3000')\n",
    "elif ((a//10)==(b//10) or (a//10)==(b%10)) or ((a%10)==(b//10) or (a%10)==(b%10)):\n",
    "    print ('1000')\n",
    "else:\n",
    "    print('nothing')"
   ]
  },
  {
   "cell_type": "markdown",
   "metadata": {},
   "source": [
    "# Homework\n",
    "- 1\n",
    "![](../Photo/42.png)"
   ]
  },
  {
   "cell_type": "code",
   "execution_count": 1,
   "metadata": {},
   "outputs": [
    {
     "name": "stdout",
     "output_type": "stream",
     "text": [
      "input a,b,c:1,2,3\n",
      "no real roots\n"
     ]
    }
   ],
   "source": [
    "import math\n",
    "a,b,c = eval(input('input a,b,c:'))\n",
    "if b**2-4*a*c>0:\n",
    "    r1=(-b+math.sqrt(b**2-4*a*c))/2*a\n",
    "    r2=(-b-math.sqrt(b**2-4*a*c))/2*a\n",
    "    print(r1,r2)\n",
    "elif b**2-4*a*c==0:\n",
    "    r=-b/2*a\n",
    "    print(r)\n",
    "elif b**2-4*a*c<0:\n",
    "    print('no real roots')"
   ]
  },
  {
   "cell_type": "markdown",
   "metadata": {},
   "source": [
    "- 2\n",
    "![](../Photo/43.png)"
   ]
  },
  {
   "cell_type": "code",
   "execution_count": 16,
   "metadata": {},
   "outputs": [
    {
     "name": "stdout",
     "output_type": "stream",
     "text": [
      "5 14\n",
      "input c:19\n",
      "ture\n"
     ]
    }
   ],
   "source": [
    "import random \n",
    "a = random.randint(0,100)\n",
    "b = random.randint(0,100)\n",
    "print(a,b)\n",
    "c = int(input('input c:'))\n",
    "if c==a+b:\n",
    "    print ('ture')\n",
    "else:\n",
    "    false ('false')"
   ]
  },
  {
   "cell_type": "markdown",
   "metadata": {},
   "source": [
    "- 3\n",
    "![](../Photo/44.png)"
   ]
  },
  {
   "cell_type": "code",
   "execution_count": 37,
   "metadata": {},
   "outputs": [
    {
     "name": "stdout",
     "output_type": "stream",
     "text": [
      "Enter todays day0\n",
      "since day31\n",
      "today is 0 future day is 3\n"
     ]
    }
   ],
   "source": [
    "a = int(input('Enter todays day'))\n",
    "b = int(input('since day'))\n",
    "print ('today is',a,'future day is',(a+b)%7)\n",
    "    "
   ]
  },
  {
   "cell_type": "markdown",
   "metadata": {},
   "source": [
    "- 4\n",
    "![](../Photo/45.png)"
   ]
  },
  {
   "cell_type": "code",
   "execution_count": 34,
   "metadata": {},
   "outputs": [
    {
     "name": "stdout",
     "output_type": "stream",
     "text": [
      "input a,b,c:1,2,3\n",
      "3 2 1\n"
     ]
    }
   ],
   "source": [
    "a,b,c=eval(input('input a,b,c:'))\n",
    "for i in range(0,3):\n",
    "    d=0\n",
    "    if a<b:\n",
    "        d=a\n",
    "        a=b\n",
    "        b=d\n",
    "    if b<c:\n",
    "        d=c\n",
    "        c=b\n",
    "        b=d\n",
    "        \n",
    "print (a,b,c)\n",
    "    \n",
    "    "
   ]
  },
  {
   "cell_type": "markdown",
   "metadata": {},
   "source": [
    "- 5\n",
    "![](../Photo/46.png)"
   ]
  },
  {
   "cell_type": "code",
   "execution_count": 35,
   "metadata": {},
   "outputs": [
    {
     "name": "stdout",
     "output_type": "stream",
     "text": [
      "input w f 1:50,24.59\n",
      "input w f 2:25,11.99\n",
      "p2 is b\n"
     ]
    }
   ],
   "source": [
    "w1,p1 = eval(input('input w f 1:'))\n",
    "w2,p2 = eval(input('input w f 2:'))\n",
    "b1 = w1/p1\n",
    "b2 = w2/p2\n",
    "if b1>b2:\n",
    "    print('p1 is b')\n",
    "else:\n",
    "    print('p2 is b')"
   ]
  },
  {
   "cell_type": "markdown",
   "metadata": {},
   "source": [
    "- 6\n",
    "![](../Photo/47.png)"
   ]
  },
  {
   "cell_type": "code",
   "execution_count": null,
   "metadata": {},
   "outputs": [],
   "source": [
    "m = eval(input('input m:'))\n",
    "y = eval(input('input y:'))\n",
    "if ((y%4==0 and y%100!=0) or y%400==0)and(m==2):\n",
    "    print('29')\n",
    "elif m==2:\n",
    "    print('28')\n",
    "elif m==1 or m==3 or m==5 or m==7 or m==8 or m==10 or m==12:\n",
    "    print('31')\n",
    "else:\n",
    "    print('30')\n",
    "    "
   ]
  },
  {
   "cell_type": "markdown",
   "metadata": {},
   "source": [
    "- 7\n",
    "![](../Photo/48.png)"
   ]
  },
  {
   "cell_type": "code",
   "execution_count": 2,
   "metadata": {},
   "outputs": [
    {
     "name": "stdout",
     "output_type": "stream",
     "text": [
      "0\n",
      "0 or 1:0\n",
      "ok\n"
     ]
    }
   ],
   "source": [
    "import random\n",
    "a = random.randint(0,1)\n",
    "print (a)\n",
    "f = int(input('0 or 1:'))\n",
    "\n",
    "if a==f:\n",
    "    print('ok')\n",
    "else:\n",
    "    print('not ok')\n"
   ]
  },
  {
   "cell_type": "markdown",
   "metadata": {},
   "source": [
    "- 8\n",
    "![](../Photo/49.png)"
   ]
  },
  {
   "cell_type": "code",
   "execution_count": null,
   "metadata": {},
   "outputs": [],
   "source": [
    "import random\n",
    "a = str(input('input s r p:'))\n",
    "b = random.choice(('s','r','p'))\n",
    "if a==b:\n",
    "    print('DRAW')\n",
    "elif (a=='s'and b=='p')or(a=='r'and b=='s')or(a=='p'and b=='r'):\n",
    "    print('you win')\n",
    "else:\n",
    "    print('you lose')\n",
    "    "
   ]
  },
  {
   "cell_type": "markdown",
   "metadata": {},
   "source": [
    "- 9\n",
    "![](../Photo/50.png)"
   ]
  },
  {
   "cell_type": "code",
   "execution_count": null,
   "metadata": {},
   "outputs": [],
   "source": []
  },
  {
   "cell_type": "markdown",
   "metadata": {},
   "source": [
    "- 10\n",
    "![](../Photo/51.png)"
   ]
  },
  {
   "cell_type": "code",
   "execution_count": 177,
   "metadata": {},
   "outputs": [
    {
     "name": "stdout",
     "output_type": "stream",
     "text": [
      "方块 5\n"
     ]
    }
   ],
   "source": [
    "import random\n",
    "g = random.choice(('a','j','q','k',2,3,4,5,6,7,8,9,10))\n",
    "r = random.choice(('梅花','红桃','方块','黑桃'))\n",
    "print (r,g)"
   ]
  },
  {
   "cell_type": "markdown",
   "metadata": {},
   "source": [
    "- 11\n",
    "![](../Photo/52.png)"
   ]
  },
  {
   "cell_type": "code",
   "execution_count": 4,
   "metadata": {},
   "outputs": [
    {
     "name": "stdout",
     "output_type": "stream",
     "text": [
      "input a:123\n",
      "false\n"
     ]
    }
   ],
   "source": [
    "a = eval(input('input a:'))\n",
    "a = str(a)\n",
    "b = ''\n",
    "for i in a:\n",
    "    b = i + b\n",
    "if a==b:\n",
    "    print ('ture')\n",
    "else:\n",
    "    print('false')"
   ]
  },
  {
   "cell_type": "markdown",
   "metadata": {},
   "source": [
    "- 12\n",
    "![](../Photo/53.png)"
   ]
  },
  {
   "cell_type": "code",
   "execution_count": 16,
   "metadata": {},
   "outputs": [
    {
     "name": "stdout",
     "output_type": "stream",
     "text": [
      "input a,b,c:1,1,6\n",
      "not ture\n"
     ]
    }
   ],
   "source": [
    "a,b,c=eval(input('input a,b,c:'))\n",
    "for i in range(0,3):\n",
    "    d=0\n",
    "    if a>b:\n",
    "        d=a\n",
    "        a=b\n",
    "        b=d\n",
    "    if b>c:\n",
    "        d=c\n",
    "        c=b\n",
    "        b=d\n",
    "if a+b>c:\n",
    "    print(a+b+c)\n",
    "else:\n",
    "    print('not ture')\n"
   ]
  }
 ],
 "metadata": {
  "kernelspec": {
   "display_name": "Python 3",
   "language": "python",
   "name": "python3"
  },
  "language_info": {
   "codemirror_mode": {
    "name": "ipython",
    "version": 3
   },
   "file_extension": ".py",
   "mimetype": "text/x-python",
   "name": "python",
   "nbconvert_exporter": "python",
   "pygments_lexer": "ipython3",
   "version": "3.6.4"
  }
 },
 "nbformat": 4,
 "nbformat_minor": 2
}
