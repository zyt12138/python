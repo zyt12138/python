{
 "cells": [
  {
   "cell_type": "markdown",
   "metadata": {},
   "source": [
    "# 数学函数、字符串和对象\n",
    "## 本章介绍Python函数来执行常见的数学运算\n",
    "- 函数是完成一个特殊任务的一组语句，可以理解为一个函数相当于一个小功能，但是在开发中，需要注意一个函数的长度最好不要超过一屏\n",
    "- Python中的内置函数是不需要Import导入的\n",
    "<img src=\"../Photo/15.png\"></img>"
   ]
  },
  {
   "cell_type": "code",
   "execution_count": 3,
   "metadata": {},
   "outputs": [
    {
     "name": "stdout",
     "output_type": "stream",
     "text": [
      "0.16797399520874023\n"
     ]
    }
   ],
   "source": [
    "import time \n",
    "start=time.time()\n",
    "num = 0\n",
    "for i in range(1000000):\n",
    "    num += i\n",
    "end = time.time()\n",
    "print (end-start)"
   ]
  },
  {
   "cell_type": "code",
   "execution_count": 1,
   "metadata": {},
   "outputs": [
    {
     "ename": "SyntaxError",
     "evalue": "invalid syntax (<ipython-input-1-c1b2ba45b889>, line 4)",
     "output_type": "error",
     "traceback": [
      "\u001b[1;36m  File \u001b[1;32m\"<ipython-input-1-c1b2ba45b889>\"\u001b[1;36m, line \u001b[1;32m4\u001b[0m\n\u001b[1;33m    if a = 0 &&b = 2:\u001b[0m\n\u001b[1;37m         ^\u001b[0m\n\u001b[1;31mSyntaxError\u001b[0m\u001b[1;31m:\u001b[0m invalid syntax\n"
     ]
    }
   ],
   "source": [
    "L = -[]"
   ]
  },
  {
   "cell_type": "code",
   "execution_count": 1,
   "metadata": {},
   "outputs": [
    {
     "name": "stdout",
     "output_type": "stream",
     "text": [
      "10\n"
     ]
    }
   ],
   "source": [
    "a = -10\n",
    "print(abs(a))"
   ]
  },
  {
   "cell_type": "code",
   "execution_count": 2,
   "metadata": {
    "scrolled": true
   },
   "outputs": [
    {
     "name": "stdout",
     "output_type": "stream",
     "text": [
      "10.1\n"
     ]
    }
   ],
   "source": [
    "b = -10.1\n",
    "print(abs(b))"
   ]
  },
  {
   "cell_type": "code",
   "execution_count": 4,
   "metadata": {},
   "outputs": [
    {
     "name": "stdout",
     "output_type": "stream",
     "text": [
      "0\n"
     ]
    }
   ],
   "source": [
    "c = 0\n",
    "print(abs(c))"
   ]
  },
  {
   "cell_type": "code",
   "execution_count": 3,
   "metadata": {},
   "outputs": [
    {
     "data": {
      "text/plain": [
       "5"
      ]
     },
     "execution_count": 3,
     "metadata": {},
     "output_type": "execute_result"
    }
   ],
   "source": [
    "max(1, 2, 3, 4, 5)\n"
   ]
  },
  {
   "cell_type": "code",
   "execution_count": null,
   "metadata": {},
   "outputs": [],
   "source": [
    "min(1, 2, 3, 4, 5)"
   ]
  },
  {
   "cell_type": "code",
   "execution_count": 5,
   "metadata": {},
   "outputs": [
    {
     "data": {
      "text/plain": [
       "-4"
      ]
     },
     "execution_count": 5,
     "metadata": {},
     "output_type": "execute_result"
    }
   ],
   "source": [
    "min(1, 2, 3, -4, 5)"
   ]
  },
  {
   "cell_type": "code",
   "execution_count": 6,
   "metadata": {
    "scrolled": true
   },
   "outputs": [
    {
     "name": "stdout",
     "output_type": "stream",
     "text": [
      "0\n",
      "1\n",
      "2\n",
      "3\n",
      "4\n",
      "5\n",
      "6\n",
      "7\n",
      "8\n",
      "9\n"
     ]
    }
   ],
   "source": [
    "for i in range(10):\n",
    "    print(i)"
   ]
  },
  {
   "cell_type": "code",
   "execution_count": 9,
   "metadata": {},
   "outputs": [
    {
     "data": {
      "text/plain": [
       "2"
      ]
     },
     "execution_count": 9,
     "metadata": {},
     "output_type": "execute_result"
    }
   ],
   "source": [
    "pow(2, 4, 14)  # 幂指数运算，第三个参数是取模运算"
   ]
  },
  {
   "cell_type": "code",
   "execution_count": null,
   "metadata": {},
   "outputs": [],
   "source": [
    "round(10.67, 1)  # 一个参数就是四舍五入，保留小数位数"
   ]
  },
  {
   "cell_type": "markdown",
   "metadata": {},
   "source": [
    "## 尝试练习Python内置函数"
   ]
  },
  {
   "cell_type": "markdown",
   "metadata": {},
   "source": [
    "## Python中的math模块提供了许多数学函数\n",
    "<img src=\"../Photo/16.png\"></img>\n",
    "<img src=\"../Photo/17.png\"></img>\n"
   ]
  },
  {
   "cell_type": "code",
   "execution_count": null,
   "metadata": {},
   "outputs": [],
   "source": []
  },
  {
   "cell_type": "code",
   "execution_count": null,
   "metadata": {},
   "outputs": [],
   "source": [
    "import math # 导入数学包\n",
    "a1 = math.fabs(-2)\n",
    "print(a1)\n",
    "\n",
    "print(math.log(2.71828))\n",
    "print(math.asin(1.0))"
   ]
  },
  {
   "cell_type": "code",
   "execution_count": null,
   "metadata": {},
   "outputs": [],
   "source": [
    "b1 = math.cos(math.radians(90))   # cos代入的是弧度值，very important！\n",
    "print(b1)\n",
    "c1 = 3.1415926\n",
    "print(math.degrees(c1))"
   ]
  },
  {
   "cell_type": "code",
   "execution_count": null,
   "metadata": {},
   "outputs": [],
   "source": [
    "math.sqrt(9)"
   ]
  },
  {
   "cell_type": "code",
   "execution_count": null,
   "metadata": {},
   "outputs": [],
   "source": [
    "math.sin(2 * math.pi)"
   ]
  },
  {
   "cell_type": "code",
   "execution_count": 4,
   "metadata": {},
   "outputs": [
    {
     "ename": "NameError",
     "evalue": "name 'math' is not defined",
     "output_type": "error",
     "traceback": [
      "\u001b[1;31m---------------------------------------------------------------------------\u001b[0m",
      "\u001b[1;31mNameError\u001b[0m                                 Traceback (most recent call last)",
      "\u001b[1;32m<ipython-input-4-9c8d49fca675>\u001b[0m in \u001b[0;36m<module>\u001b[1;34m()\u001b[0m\n\u001b[1;32m----> 1\u001b[1;33m \u001b[0mmath\u001b[0m\u001b[1;33m.\u001b[0m\u001b[0mcos\u001b[0m\u001b[1;33m(\u001b[0m\u001b[1;36m2\u001b[0m \u001b[1;33m*\u001b[0m \u001b[0mmath\u001b[0m\u001b[1;33m.\u001b[0m\u001b[0mpi\u001b[0m\u001b[1;33m)\u001b[0m\u001b[1;33m\u001b[0m\u001b[0m\n\u001b[0m",
      "\u001b[1;31mNameError\u001b[0m: name 'math' is not defined"
     ]
    }
   ],
   "source": [
    "math.cos(2 * math.pi)"
   ]
  },
  {
   "cell_type": "code",
   "execution_count": null,
   "metadata": {},
   "outputs": [],
   "source": [
    "min(2, 2, 1)"
   ]
  },
  {
   "cell_type": "code",
   "execution_count": null,
   "metadata": {},
   "outputs": [],
   "source": [
    "math.log(math.e ** 2)"
   ]
  },
  {
   "cell_type": "code",
   "execution_count": null,
   "metadata": {},
   "outputs": [],
   "source": [
    "math.exp(1)"
   ]
  },
  {
   "cell_type": "code",
   "execution_count": null,
   "metadata": {},
   "outputs": [],
   "source": [
    "max(2, 3, 4)"
   ]
  },
  {
   "cell_type": "code",
   "execution_count": null,
   "metadata": {},
   "outputs": [],
   "source": [
    "math.ceil(-2.5)"
   ]
  },
  {
   "cell_type": "code",
   "execution_count": 5,
   "metadata": {},
   "outputs": [
    {
     "name": "stdout",
     "output_type": "stream",
     "text": [
      "验证码 3 + 4 = ?\n",
      "写出结果： 7\n",
      "验证码正确\n"
     ]
    }
   ],
   "source": [
    "# 验证码系统\n",
    "first_num, second_num = 3, 4\n",
    "print('验证码', first_num ,'+', second_num, '= ?')\n",
    "answer = eval(input('写出结果： '))\n",
    "\n",
    "if answer == first_num + second_num:\n",
    "    print('验证码正确')\n",
    "else:\n",
    "    print('验证码错误')\n"
   ]
  },
  {
   "cell_type": "code",
   "execution_count": null,
   "metadata": {},
   "outputs": [],
   "source": [
    "import random\n",
    "import math\n",
    "\n",
    "first_num, second_num = 3, 4\n",
    "list = ['+', '-', '*', '/']\n",
    "randl = random.randint(0, 3)\n",
    "if list[randl]=='+':\n",
    "    print('验证码', first_num ,'+', second_num, '= ?')\n",
    "    right_answer = first_num + second_num\n",
    "elif list[randl]=='-':\n",
    "    print('验证码', first_num ,'-', second_num, '= ?')\n",
    "    right_answer = first_num - second_num\n",
    "elif list[randl]=='-':\n",
    "    print('验证码', first_num ,'*', second_num, '= ?')\n",
    "    right_answer = first_num * second_num\n",
    "else:\n",
    "    print('验证码', first_num ,'/', second_num, '= ?')\n",
    "    right_answer = first_num / second_num\n",
    "    \n",
    "answer = eval(input('写出结果： '))\n",
    "\n",
    "if answer == right_answer:\n",
    "    print('验证码正确')\n",
    "else:\n",
    "    print('验证码错误')"
   ]
  },
  {
   "cell_type": "code",
   "execution_count": null,
   "metadata": {},
   "outputs": [],
   "source": [
    "# 验证码系统\n",
    "import random\n",
    "first_num = random.randint(0, 9)\n",
    "second_num = random.randint(0, 9)\n",
    "fuhao = random.randint(0, 3)\n",
    "\n",
    "if fuhao==0:\n",
    "    print('验证码', first_num ,'+', second_num, '= ?')\n",
    "    right_answer = first_num + second_num\n",
    "elif fuhao==1:\n",
    "    print('验证码', first_num ,'-', second_num, '= ?')\n",
    "    right_answer = first_num - second_num\n",
    "elif fuhao==2:\n",
    "    print('验证码', first_num ,'*', second_num, '= ?')\n",
    "    right_answer = first_num * second_num\n",
    "else:\n",
    "    print('验证码', first_num ,'/', second_num, '= ?')\n",
    "    right_answer = first_num / second_num\n",
    "    \n",
    "answer = eval(input('写出结果： '))\n",
    "\n",
    "if answer == right_answer:\n",
    "    print('验证码正确')\n",
    "else:\n",
    "    print('验证码错误')\n"
   ]
  },
  {
   "cell_type": "code",
   "execution_count": null,
   "metadata": {},
   "outputs": [],
   "source": [
    "import random\n",
    "list = ['+', '-', '*', '/']\n",
    "c = random.sample(list, 1)\n",
    "print(c)"
   ]
  },
  {
   "cell_type": "code",
   "execution_count": null,
   "metadata": {
    "scrolled": true
   },
   "outputs": [],
   "source": [
    "import random\n",
    "import math\n",
    "\n",
    "first_num = random.randint(0, 9)\n",
    "second_num = random.randint(0, 9)\n",
    "list = ['+', '-', '*', '/']\n",
    "fuhao = random.sample(list, 1)\n",
    "if fuhao=='+':\n",
    "    print('验证码', first_num ,'+', second_num, '= ?')\n",
    "    right_answer = first_num + second_num\n",
    "elif fuhao=='-':\n",
    "    print('验证码', first_num ,'-', second_num, '= ?')\n",
    "    right_answer = first_num - second_num\n",
    "elif fuhao=='-':\n",
    "    print('验证码', first_num ,'*', second_num, '= ?')\n",
    "    right_answer = first_num * second_num\n",
    "else:\n",
    "    print('验证码', first_num ,'/', second_num, '= ?')\n",
    "    right_answer = first_num / second_num\n",
    "    \n",
    "answer = eval(input('写出结果： '))\n",
    "\n",
    "if answer == right_answer:\n",
    "    print('验证码正确')\n",
    "else:\n",
    "    print('验证码错误')"
   ]
  },
  {
   "cell_type": "code",
   "execution_count": null,
   "metadata": {},
   "outputs": [],
   "source": [
    "import PIL"
   ]
  },
  {
   "cell_type": "markdown",
   "metadata": {},
   "source": [
    "## 两个数学常量PI和e，可以通过使用math.pi 和math.e调用"
   ]
  },
  {
   "cell_type": "code",
   "execution_count": null,
   "metadata": {},
   "outputs": [],
   "source": [
    "import math\n",
    "print(math.pi)\n",
    "print(math.e)"
   ]
  },
  {
   "cell_type": "markdown",
   "metadata": {},
   "source": [
    "## EP:\n",
    "- 通过math库，写一个程序，使得用户输入三个顶点(x,y)返回三个角度\n",
    "- 注意：Python计算角度为弧度制，需要将其转换为角度\n",
    "<img src=\"../Photo/18.png\">"
   ]
  },
  {
   "cell_type": "code",
   "execution_count": 9,
   "metadata": {},
   "outputs": [
    {
     "name": "stdout",
     "output_type": "stream",
     "text": [
      "\n",
      "\n",
      "\n",
      "\n",
      "s\n",
      "a\n",
      "d\n",
      "s\n",
      "s\n",
      "l\n",
      "d\n",
      "l\n",
      "f\n",
      "\n",
      "\n",
      "\n",
      "\n"
     ]
    }
   ],
   "source": [
    "a = '''\n",
    "sadssldlf\n",
    "'''\n",
    "for i in a:\n",
    "    print (i)\n"
   ]
  },
  {
   "cell_type": "code",
   "execution_count": null,
   "metadata": {},
   "outputs": [],
   "source": [
    "import math\n",
    "\n",
    "x1, y1 = eval(input('输入A点坐标：'))\n",
    "x2, y2 = eval(input('输入B点坐标：'))\n",
    "x3, y3 = eval(input('输入C点坐标：'))\n",
    "\n",
    "a = math.sqrt((x1 - x2) ** 2 + (y1 - y2) ** 2)\n",
    "b = math.sqrt((x1 - x3) ** 2 + (y1 - y3) ** 2)\n",
    "c = math.sqrt((x2 - x3) ** 2 + (y2 - y3) ** 2)\n",
    "\n",
    "A = math.degrees(math.acos((a * a - b * b - c * c) / (-2 * b * c)))\n",
    "B = math.degrees(math.acos((b * b - a * a - c * c) / (-2 * a * c)))\n",
    "C = math.degrees(math.acos((c * c - b * b - a * a) / (-2 * a * b)))\n",
    "\n",
    "print('三角形的三个角分别为', A, B, C)\n",
    "\n",
    "                 \n"
   ]
  },
  {
   "cell_type": "markdown",
   "metadata": {},
   "source": [
    "## 字符串和字符\n",
    "- 在Python中，字符串必须是在单引号或者双引号内，在多段换行的字符串中可以使用“”“\n",
    "- 在使用”“”时，给予其变量则变为字符串，否则当多行注释使用"
   ]
  },
  {
   "cell_type": "code",
   "execution_count": null,
   "metadata": {},
   "outputs": [],
   "source": [
    "a = 'joker'\n",
    "b = \"Kate\"\n",
    "c = \"\"\"在Python中，字符串必须是在单引号或者双引号内，在多段换行的字符串中可以使用“”“\n",
    "在使用”“”时，给予其变量则变为字符串，否则当多行注释使用\"\"\"   #字符串有多行时，添加三个单引号或者三个双引号\n",
    "\n",
    "\"\"\"在Python中，字符串必须是在单引号或者双引号内，在多段换行的字符串中可以使用“”“\n",
    "在使用”“”时，给予其变量则变为字符串，否则当多行注释使用\"\"\"   #三引号可以表示多行注释\n",
    "# 当6个引号没有赋值时，那么它是注释的作用\n",
    "# 6个引号的作用，多行文本\n",
    "\n",
    "print(type(a), type(b), type(c))"
   ]
  },
  {
   "cell_type": "markdown",
   "metadata": {},
   "source": [
    "## ASCII码与Unicode码\n",
    "- <img src=\"../Photo/19.png\"></img>\n",
    "- <img src=\"../Photo/20.png\"></img>\n",
    "- <img src=\"../Photo/21.png\"></img>"
   ]
  },
  {
   "cell_type": "markdown",
   "metadata": {},
   "source": [
    "## 函数ord、chr\n",
    "- ord 返回ASCII码值\n",
    "- chr 返回字符"
   ]
  },
  {
   "cell_type": "code",
   "execution_count": 1,
   "metadata": {},
   "outputs": [
    {
     "name": "stdout",
     "output_type": "stream",
     "text": [
      "113 90\n"
     ]
    }
   ],
   "source": [
    "joker = 'A'\n",
    "ord(joker)\n",
    "print(ord('q'), ord('Z'))"
   ]
  },
  {
   "cell_type": "code",
   "execution_count": null,
   "metadata": {},
   "outputs": [],
   "source": [
    "print(chr(65))\n",
    "print(chr(90))"
   ]
  },
  {
   "cell_type": "code",
   "execution_count": 2,
   "metadata": {},
   "outputs": [
    {
     "data": {
      "text/plain": [
       "(array([0], dtype=int64),)"
      ]
     },
     "execution_count": 2,
     "metadata": {},
     "output_type": "execute_result"
    }
   ],
   "source": [
    "import numpy as np\n",
    "np.nonzero(1)"
   ]
  },
  {
   "cell_type": "markdown",
   "metadata": {},
   "source": [
    "## EP:\n",
    "- 利用ord与chr进行简单邮箱加密"
   ]
  },
  {
   "cell_type": "code",
   "execution_count": 16,
   "metadata": {},
   "outputs": [
    {
     "name": "stdout",
     "output_type": "stream",
     "text": [
      "rftrfthmtslE6;83htr"
     ]
    }
   ],
   "source": [
    "email = 'maomaochong@163.com'  # 邮箱加密过程\n",
    "for i in email:\n",
    "    text = ord(i) + 5\n",
    "    retext = chr(text)\n",
    "    print(retext,end='')"
   ]
  },
  {
   "cell_type": "code",
   "execution_count": null,
   "metadata": {},
   "outputs": [],
   "source": [
    "import hashlib\n",
    "str1 = 'this is a test.'\n",
    "h1 = hashlib.md5()\n",
    "h1.update(str1.encode(encoding = 'utf-8'))\n",
    "print('MD5加密之后为：', h1.hexdigest())"
   ]
  },
  {
   "cell_type": "markdown",
   "metadata": {},
   "source": [
    "## 转义序列 \\\n",
    "- a = \"He said,\"Johon's program is easy to read\"\"\n",
    "- 转掉原来的意思\n",
    "- 一般情况下，只有当语句与默认语句相撞的时候，就需要转义"
   ]
  },
  {
   "cell_type": "code",
   "execution_count": null,
   "metadata": {},
   "outputs": [],
   "source": [
    "a = \"He said,\\\"Johon's program is easy to read\\\"\"  #z正则表达式中常用转义字符\\\n",
    "print(a)"
   ]
  },
  {
   "cell_type": "markdown",
   "metadata": {},
   "source": [
    "## 高级print\n",
    "- 参数 end： 以什么方式结束打印\n",
    "- 默认换行打印"
   ]
  },
  {
   "cell_type": "code",
   "execution_count": 18,
   "metadata": {},
   "outputs": [
    {
     "name": "stdout",
     "output_type": "stream",
     "text": [
      "nbpnbpdipohA274/dpn\n"
     ]
    }
   ],
   "source": [
    "email = 'maomaochong@163.com'  # 邮箱加密过程\n",
    "j = ''\n",
    "for i in email:\n",
    "    text = ord(i) + 1\n",
    "    retext = chr(text)\n",
    "    j = j + retext\n",
    "print(j)"
   ]
  },
  {
   "cell_type": "markdown",
   "metadata": {},
   "source": [
    "## 函数str\n",
    "- 将类型强制转换成字符串类型\n",
    "- 其他一些以后会学到(list,set,tuple...)"
   ]
  },
  {
   "cell_type": "code",
   "execution_count": 4,
   "metadata": {},
   "outputs": [
    {
     "data": {
      "text/plain": [
       "float"
      ]
     },
     "execution_count": 4,
     "metadata": {},
     "output_type": "execute_result"
    }
   ],
   "source": [
    "a = 100.12\n",
    "type(a)"
   ]
  },
  {
   "cell_type": "markdown",
   "metadata": {},
   "source": [
    "## 字符串连接操作\n",
    "- 直接使用 “+” \n",
    "- join() 函数 "
   ]
  },
  {
   "cell_type": "code",
   "execution_count": 15,
   "metadata": {},
   "outputs": [
    {
     "name": "stdout",
     "output_type": "stream",
     "text": [
      "www.baidu.com/image.page=0\n",
      "www.baidu.com/image.page=1\n",
      "www.baidu.com/image.page=2\n",
      "www.baidu.com/image.page=3\n",
      "www.baidu.com/image.page=4\n",
      "www.baidu.com/image.page=5\n",
      "www.baidu.com/image.page=6\n",
      "www.baidu.com/image.page=7\n",
      "www.baidu.com/image.page=8\n",
      "www.baidu.com/image.page=9\n"
     ]
    }
   ],
   "source": [
    "a1 = 'www.baidu.com/image.page='\n",
    "a2 = '1'\n",
    "for i in range(0, 10):\n",
    "    a2 = a1 + str(i)\n",
    "    print(a2)"
   ]
  },
  {
   "cell_type": "code",
   "execution_count": 17,
   "metadata": {},
   "outputs": [
    {
     "name": "stdout",
     "output_type": "stream",
     "text": [
      "Wall time: 0 ns\n"
     ]
    },
    {
     "data": {
      "text/plain": [
       "'(a,b,c,d)(a,b,c,d)'"
      ]
     },
     "execution_count": 17,
     "metadata": {},
     "output_type": "execute_result"
    }
   ],
   "source": [
    "\n",
    "%time  ''.join(['(a,b,c,d)','(a,b,c,d)'])  # join的参数需要在一个元组之中"
   ]
  },
  {
   "cell_type": "code",
   "execution_count": 9,
   "metadata": {},
   "outputs": [
    {
     "name": "stdout",
     "output_type": "stream",
     "text": [
      "Wall time: 0 ns\n"
     ]
    },
    {
     "data": {
      "text/plain": [
       "'a*b*c*d'"
      ]
     },
     "execution_count": 9,
     "metadata": {},
     "output_type": "execute_result"
    }
   ],
   "source": [
    "%time  '*'.join(('a', 'b', 'c', 'd'))  # join的参数需要在一个元组之中"
   ]
  },
  {
   "cell_type": "code",
   "execution_count": 10,
   "metadata": {},
   "outputs": [
    {
     "name": "stdout",
     "output_type": "stream",
     "text": [
      "Wall time: 0 ns\n"
     ]
    },
    {
     "data": {
      "text/plain": [
       "'ABC'"
      ]
     },
     "execution_count": 10,
     "metadata": {},
     "output_type": "execute_result"
    }
   ],
   "source": [
    "%time 'A' + 'B' + 'C'"
   ]
  },
  {
   "cell_type": "markdown",
   "metadata": {},
   "source": [
    "## EP：\n",
    "- 将 “Welcome” “to” \"Python\" 拼接\n",
    "- 将int型 100 与 “joker is a bad man” 拼接\n",
    "- 从控制台读取字符串\n",
    "> 输入一个名字返回夸奖此人是一个帅哥"
   ]
  },
  {
   "cell_type": "code",
   "execution_count": null,
   "metadata": {},
   "outputs": [],
   "source": [
    "text1 = ' '.join(('Welcome', 'to', 'Python'))\n",
    "i = 100\n",
    "text2 = str(i)\n",
    "text3 = ' '.join((text2, 'Joker is a bad man'))\n",
    "print(text1, '\\n', text2 ,'\\n', text3)"
   ]
  },
  {
   "cell_type": "code",
   "execution_count": null,
   "metadata": {},
   "outputs": [],
   "source": [
    "name = input('输入名字：')\n",
    "text = ' '.join((name, 'is a good boy.'))\n",
    "print(text)"
   ]
  },
  {
   "cell_type": "markdown",
   "metadata": {},
   "source": [
    "## 实例研究：最小数量硬币\n",
    "- 开发一个程序，让用户输入总金额，这是一个用美元和美分表示的浮点值，返回一个由美元、两角五分的硬币、一角的硬币、五分硬币、以及美分个数\n",
    "<img src=\"../Photo/22.png\"></img>"
   ]
  },
  {
   "cell_type": "code",
   "execution_count": null,
   "metadata": {},
   "outputs": [],
   "source": [
    "amount = eval(input('Enter an amount, for example 11.56: '))\n",
    "fenshuAmount = int(amount * 100)\n",
    "dollorAmount = fenshuAmount // 100\n",
    "remainDollorAmount = fenshuAmount % 100\n",
    "jiaoAmount = remainDollorAmount // 25\n",
    "remainJiaoAmount = remainDollorAmount % 25\n",
    "fenAmount = remainJiaoAmount // 10\n",
    "remainFenAmount = remainJiaoAmount % 10\n",
    "fenAmount2 = remainFenAmount // 5\n",
    "remainFenAmount2 = remainFenAmount % 5\n",
    "fenFinalAmount = remainFenAmount2 \n",
    "print('美元个数为',dollorAmount,'\\n', '两角五分硬币个数为',\n",
    "      jiaoAmount, '\\n','一角个数为', fenAmount, '\\n','五美分个数为', fenAmount2,'\\n', '一美分个数为',fenFinalAmount)"
   ]
  },
  {
   "cell_type": "code",
   "execution_count": null,
   "metadata": {},
   "outputs": [],
   "source": [
    "amount = eval(input('Ennter an amount,for example 11.56:'))\n",
    "remainingAmount = int(amount * 100)\n",
    "print(remainingAmount)\n",
    "numberOfOneDollars = remainingAmount //100\n",
    "remainingAmount = remainingAmount % 100\n",
    "numberOfQuarters = remainingAmount // 25\n",
    "remainingAmount = remainingAmount % 25\n",
    "numberOfDimes = remainingAmount // 10\n",
    "remainingAmount = remainingAmount % 10\n",
    "numberOfNickls = remainingAmount // 5\n",
    "remainingAmount = remainingAmount % 5\n",
    "numberOfPenies = remainingAmount\n",
    "print(numberOfOneDollars,numberOfQuarters,numberOfDimes,numberOfNickls,numberOfPenies)"
   ]
  },
  {
   "cell_type": "markdown",
   "metadata": {},
   "source": [
    "- Python弱项，对于浮点型的处理并不是很好，但是处理数据的时候使用的是Numpy类型\n",
    "<img src=\"../Photo/23.png\"></img>"
   ]
  },
  {
   "cell_type": "code",
   "execution_count": null,
   "metadata": {},
   "outputs": [],
   "source": [
    "remainingAmount = eval(input('Ennter an amount,for example 11.56:'))\n",
    "print(remainingAmount)\n",
    "numberOfOneDollars = remainingAmount //100\n",
    "remainingAmount = remainingAmount % 100\n",
    "numberOfQuarters = remainingAmount // 25\n",
    "remainingAmount = remainingAmount % 25\n",
    "numberOfDimes = remainingAmount // 10\n",
    "remainingAmount = remainingAmount % 10\n",
    "numberOfNickls = remainingAmount // 5\n",
    "remainingAmount = remainingAmount % 5\n",
    "numberOfPenies = remainingAmount\n",
    "print(numberOfOneDollars,numberOfQuarters,numberOfDimes,numberOfNickls,numberOfPenies)"
   ]
  },
  {
   "cell_type": "markdown",
   "metadata": {},
   "source": [
    "## id与type\n",
    "- id 查看内存地址，在判断语句中将会使用\n",
    "- type 查看元素类型"
   ]
  },
  {
   "cell_type": "code",
   "execution_count": null,
   "metadata": {},
   "outputs": [],
   "source": [
    "a = 100\n",
    "id(a)"
   ]
  },
  {
   "cell_type": "code",
   "execution_count": null,
   "metadata": {
    "scrolled": true
   },
   "outputs": [],
   "source": [
    "id(True)"
   ]
  },
  {
   "cell_type": "code",
   "execution_count": null,
   "metadata": {},
   "outputs": [],
   "source": [
    "100 == 100"
   ]
  },
  {
   "cell_type": "code",
   "execution_count": null,
   "metadata": {},
   "outputs": [],
   "source": [
    "112345678800000000 is '112345678800000000'"
   ]
  },
  {
   "cell_type": "code",
   "execution_count": null,
   "metadata": {},
   "outputs": [],
   "source": [
    "112345678800000000 is 112345678800000000"
   ]
  },
  {
   "cell_type": "code",
   "execution_count": null,
   "metadata": {},
   "outputs": [],
   "source": [
    "a = True\n",
    "b = False\n",
    "print(id(a), id(b))\n",
    "a is b\n"
   ]
  },
  {
   "cell_type": "markdown",
   "metadata": {},
   "source": [
    "## 其他格式化语句见书"
   ]
  },
  {
   "cell_type": "markdown",
   "metadata": {},
   "source": [
    "# Homework\n",
    "- 1\n",
    "<img src=\"../Photo/24.png\"><img>\n",
    "<img src=\"../Photo/25.png\"><img>"
   ]
  },
  {
   "cell_type": "code",
   "execution_count": 22,
   "metadata": {},
   "outputs": [
    {
     "name": "stdout",
     "output_type": "stream",
     "text": [
      "input r:5.5\n",
      "71.92\n"
     ]
    }
   ],
   "source": [
    "import math \n",
    "r = eval(input('input r:'))\n",
    "s = 2*r*math.sin(math.pi/5)\n",
    "area = 5*s*s/(4*math.tan(math.pi/5))\n",
    "print (round(area,2))"
   ]
  },
  {
   "cell_type": "code",
   "execution_count": 19,
   "metadata": {},
   "outputs": [
    {
     "name": "stdout",
     "output_type": "stream",
     "text": [
      "输入五边形顶点到中心的距离：5.5\n",
      "计算结果：边长为 6.4656 的五边形的面积为 71.9236\n"
     ]
    }
   ],
   "source": []
  },
  {
   "cell_type": "markdown",
   "metadata": {},
   "source": [
    "- 2\n",
    "<img src=\"../Photo/26.png\"><img>"
   ]
  },
  {
   "cell_type": "code",
   "execution_count": null,
   "metadata": {},
   "outputs": [],
   "source": []
  },
  {
   "cell_type": "code",
   "execution_count": 1,
   "metadata": {},
   "outputs": [
    {
     "name": "stdout",
     "output_type": "stream",
     "text": [
      "input x1 y1:39.55,-116.25\n",
      "input x2 y2:41.5,87.37\n",
      "10691.79183231593 km\n"
     ]
    }
   ],
   "source": [
    "import math\n",
    "x1, y1 = eval(input('input x1 y1:'))\n",
    "x2, y2 = eval(input('input x2 y2:'))\n",
    "x1 = math.radians(x1)\n",
    "x2 = math.radians(x2)\n",
    "y1 = math.radians(y1)\n",
    "y2 = math.radians(y2)\n",
    "r = 6371.01\n",
    "d = r * math.acos(math.sin(x1) * math.sin(x2) + math.cos(x1) * math.cos(x2) * math.cos(y1 - y2))\n",
    "print( d, 'km')"
   ]
  },
  {
   "cell_type": "markdown",
   "metadata": {},
   "source": [
    "- 3\n",
    "<img src=\"../Photo/27.png\"><img>"
   ]
  },
  {
   "cell_type": "code",
   "execution_count": 4,
   "metadata": {},
   "outputs": [
    {
     "name": "stdout",
     "output_type": "stream",
     "text": [
      "input s:5.5\n",
      "52.044441367816255\n"
     ]
    }
   ],
   "source": [
    "import math \n",
    "s = eval(input('input s:'))\n",
    "area = 5 * s * s / (4 * math.tan(math.pi / 5))\n",
    "print(area)"
   ]
  },
  {
   "cell_type": "markdown",
   "metadata": {},
   "source": [
    "- 4\n",
    "<img src=\"../Photo/28.png\"><img>"
   ]
  },
  {
   "cell_type": "code",
   "execution_count": 7,
   "metadata": {},
   "outputs": [
    {
     "name": "stdout",
     "output_type": "stream",
     "text": [
      "input b:5\n",
      "input s:6.5\n",
      "计算结果：边长为 5 的 6.5 边形的面积为 72.69017017488386\n"
     ]
    }
   ],
   "source": [
    "import math \n",
    "b = eval(input('input b:'))\n",
    "s = eval(input('input s:'))\n",
    "area = b * s * s / (4 * math.tan(math.pi / b))\n",
    "print('计算结果：边长为',b,'的',s,'边形的面积为',area)"
   ]
  },
  {
   "cell_type": "markdown",
   "metadata": {},
   "source": [
    "- 5\n",
    "<img src=\"../Photo/29.png\"><img>\n",
    "<img src=\"../Photo/30.png\"><img>"
   ]
  },
  {
   "cell_type": "code",
   "execution_count": 8,
   "metadata": {},
   "outputs": [
    {
     "name": "stdout",
     "output_type": "stream",
     "text": [
      "input num:69\n",
      "ASCII码值为 69 的字母为 E\n"
     ]
    }
   ],
   "source": [
    "num = eval(input('input num:'))\n",
    "a = chr(num)\n",
    "print('ASCII码值为', num, '的字母为',a)"
   ]
  },
  {
   "cell_type": "markdown",
   "metadata": {},
   "source": [
    "- 6\n",
    "<img src=\"../Photo/31.png\"><img>"
   ]
  },
  {
   "cell_type": "code",
   "execution_count": 9,
   "metadata": {},
   "outputs": [
    {
     "name": "stdout",
     "output_type": "stream",
     "text": [
      "姓名：sm \n",
      "一周工作时间：10\n",
      "每小时报酬：9.75\n",
      "联邦扣税率：0.20\n",
      "州扣税率：0.09\n",
      "雇员姓名： sm  \n",
      " 一周工作时间： 10 \n",
      " 每小时报酬:$ 9.75 \n",
      " 总收入:$ 97.5 \n",
      " 扣税: \n",
      " 联邦扣税额:$ 19.5 \n",
      " 州扣税额:$ 8.775 \n",
      " 总扣税额:$ 28.275 \n",
      " 剩余工资:$ 69.225\n"
     ]
    }
   ],
   "source": [
    "name = input('姓名：')\n",
    "hourtime = eval(input('一周工作时间：'))\n",
    "payrate = eval(input('每小时报酬：'))\n",
    "ftax = eval(input('联邦扣税率：'))\n",
    "stax= eval(input('州扣税率：'))\n",
    "\n",
    "grosspay = hourtime * payrate\n",
    "federalWithholding = grosspay * ftax\n",
    "stateWithholding = grosspay * stax\n",
    "totalDeduction = federalWithholding + stateWithholding\n",
    "netPay = grosspay - totalDeduction\n",
    "print('雇员姓名：',name, '\\n','一周工作时间：', hourtime, '\\n', '每小时报酬:$', payrate,'\\n',\n",
    "     '总收入:$', grosspay,'\\n', '扣税:','\\n', '联邦扣税额:$',federalWithholding,'\\n',\n",
    "      '州扣税额:$',stateWithholding,'\\n', '总扣税额:$',totalDeduction ,'\\n',\n",
    "     '剩余工资:$', netPay)\n"
   ]
  },
  {
   "cell_type": "markdown",
   "metadata": {},
   "source": [
    "- 7\n",
    "<img src=\"../Photo/32.png\"><img>"
   ]
  },
  {
   "cell_type": "code",
   "execution_count": null,
   "metadata": {},
   "outputs": [],
   "source": []
  },
  {
   "cell_type": "code",
   "execution_count": 20,
   "metadata": {},
   "outputs": [
    {
     "name": "stdout",
     "output_type": "stream",
     "text": [
      "输入一个四位整数：1234\n",
      "四位整数 1234 的反向数字为 4321\n"
     ]
    }
   ],
   "source": [
    "number = input('输入一个四位整数：')\n",
    "reverNumber = ''\n",
    "for i in number:\n",
    "    reverNumber = i + reverNumber\n",
    "print('四位整数',number, '的反向数字为',reverNumber)"
   ]
  },
  {
   "cell_type": "markdown",
   "metadata": {},
   "source": [
    "- 8 进阶：\n",
    "> 加密一串文本，并将解密后的文件写入本地保存"
   ]
  },
  {
   "cell_type": "code",
   "execution_count": 13,
   "metadata": {},
   "outputs": [
    {
     "name": "stdout",
     "output_type": "stream",
     "text": [
      "加密之后的信息为： {zu/ovjcj/dpn\n"
     ]
    }
   ],
   "source": [
    "email = 'zyt.nuibi.com'  # 邮箱加密过程\n",
    "\n",
    "retext = ''\n",
    "for i in email:\n",
    "    text = ord(i) + 1\n",
    "    retext = ''.join((retext, chr(text)))\n",
    "print('加密之后的信息为：', retext)\n",
    "reretext = ''\n",
    "for i in retext:\n",
    "    text = ord(i) + 1\n",
    "    retext = ''.join((retext, chr(text)))\n",
    "print('加密之后的信息为：', retext)\n",
    "\n"
   ]
  }
 ],
 "metadata": {
  "kernelspec": {
   "display_name": "Python 3",
   "language": "python",
   "name": "python3"
  },
  "language_info": {
   "codemirror_mode": {
    "name": "ipython",
    "version": 3
   },
   "file_extension": ".py",
   "mimetype": "text/x-python",
   "name": "python",
   "nbconvert_exporter": "python",
   "pygments_lexer": "ipython3",
   "version": "3.6.4"
  }
 },
 "nbformat": 4,
 "nbformat_minor": 2
}
